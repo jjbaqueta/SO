{
 "cells": [
  {
   "cell_type": "markdown",
   "id": "a58c62f6",
   "metadata": {},
   "source": [
    "<h1 style=\"color: rgba(237, 153, 29, 1);\">Algoritmos de Substituição de Páginas</h1>\n",
    "<h2>LRU com Envelhecimento</h2>"
   ]
  },
  {
   "cell_type": "markdown",
   "id": "2a817dec",
   "metadata": {},
   "source": [
    "<small>\n",
    "<p><strong>IMPORTANTE</strong>: O comando '%%file' é usado no Python para criar arquivos .java no diretório onde este notebook está salvo. Os arquivos criados são nomeados conforme o identificador fornecido após o comando '%%file'.</p>\n",
    "</small>"
   ]
  },
  {
   "cell_type": "markdown",
   "id": "893e75cd",
   "metadata": {},
   "source": [
    "<h3><i>Least Recently Used (LRU)</i></h3>\n",
    "\n",
    "<p>Quando o sistema operacional usa paginação, ele mantém parte das páginas de um processo na memória principal (RAM) e o restante no disco.\n",
    "Como a RAM é limitada, pode ser necessário substituir uma página (remover uma página da RAM para liberar espaço) quando uma nova precisa ser carregada.</p>\n",
    "<p>Nesse contexto, o LRU é utilizado como uma política de substituição de páginas que remove da memória a página menos recentemente utilizada, ou seja, aquela que não é acessada há mais tempo. Essa política baseia-se no princípio da localidade temporal, que assume que páginas acessadas recentemente provavelmente serão utilizadas novamente em breve.</p>"
   ]
  },
  {
   "cell_type": "markdown",
   "id": "3dfcedf8",
   "metadata": {},
   "source": [
    "<h3>O Algoritmo de Envelhecimento</h3>\n",
    "\n",
    "<p>O LRU puro não é implementado na prática porque sua aplicação exigiria registrar e atualizar, a cada acesso à memória, a ordem exata de utilização de todas as páginas. Além disso, o conjunto de páginas na memória principal pode ser enorme, contendo milhares de quadros, o que tornaria essa atualização inviável em termos de desempenho.</p>\n",
    "\n",
    "<p>Como alternativa, o método de <strong>envelhecimento (<i>aging</i>)</strong> surge como uma solução viável e eficiente, pois realiza atualizações em intervalos regulares (por exemplo, a cada 100 ms) utilizando bits de referência e contadores para estimar o tempo desde o último acesso a cada página.</p>\n",
    "\n",
    "<p>O processo de envelhecimento tem duas etapas principais:</p>\n",
    "\n",
    "<ul>\n",
    "    <li><strong style=\"color: #E0901B;\">1</strong> - Deslocamento de bits (envelhecimento): Periodicamente, o contador de cada página é deslocado um bit para a direita. Isso faz com que o <strong>peso</strong> das referências antigas diminua, efetivamente <strong>envelhecendo</strong> a página.</li>\n",
    "    <li><strong style=\"color: #E0901B;\">2</strong> - Atualização no acesso: Toda vez que uma página é referenciada (lida ou escrita), o bit mais significativo (<i>Most Significant Bit</i> - MSB) do seu contador é definido como <strong>1</strong>.</li>\n",
    "</ul>\n",
    "\n",
    "<p>Quando uma falha de página ocorre e a memória está cheia, a página com o <strong>menor valor</strong> no contador é escolhida para ser substituída.</p>\n",
    "\n",
    "<p>As etapas do processo de envelhecimento são apresentadas na <strong>Figura 1</strong>. Note que um bit <strong>R</strong> é utilizado para registrar as páginas que foram referenciadas ao longo do tempo. Quando a atualização dos contadores é realizada, todos os bits de cada contador são deslocados para a direita, e o bit R é inserido como o bit mais significativo do contador. Após esse processo, o bit R volta a assumir o valor zero.</p>\n",
    "\n",
    "<figure>\n",
    "    <img src=\"contadores.png\" alt=\"Atualização dos contadores de páginas.\">\n",
    "    <figcaption>Figura 1: Atribuição do bit R seguida da atualização dos contadores de páginas.</figcaption>\n",
    "</figure>"
   ]
  },
  {
   "cell_type": "markdown",
   "id": "a0ae6d71",
   "metadata": {},
   "source": [
    "<h3>Ferramentas da Linguagem C - Manipulação de Bits</h3>\n",
    "\n",
    "<p>Para implementar o LRU com envelhecimento, precisaremos usar operadores de bits em C. Vamos focar em dois:</p>\n",
    "\n",
    "<ul>\n",
    "    <li><strong style=\"color: #E0901B;\">1</strong> - Deslocamento para a direita (>>): Desloca os bits de uma variável para a direita. Por exemplo, se tivermos um contador de 8 bits (um <strong>unsigned char</strong>) com o valor 132 (binário 10000100), ao deslocá-lo uma posição para a direita, ele se torna 66 (binário 01000010).</li>\n",
    "    <li><strong style=\"color: #E0901B;\">2</strong> - Operador OR (|): Quando uma página na memória é acessada novamente (um <i>hit</i>), precisamos definir seu bit mais significativo (MSB) como 1. Para um contador de 8 bits, o MSB representa o valor 128 (binário 10000000). Essa operação é realizada a partir do operador OU bit-a-bit (|). Este operador compara dois números bit a bit. Se um dos bits (ou ambos) for 1, o resultado é 1. Caso contrário, é 0.</li>\n",
    "</ul>"
   ]
  },
  {
   "cell_type": "markdown",
   "id": "478df461",
   "metadata": {},
   "source": [
    "<h4 style=\"color: #2d3436;\"><strong>Código 1</strong>: Mecanismo de envelhecimento de contadores baseado no deslocamento de bits.</h4>"
   ]
  },
  {
   "cell_type": "code",
   "execution_count": 2,
   "id": "8cd2625c",
   "metadata": {},
   "outputs": [
    {
     "name": "stdout",
     "output_type": "stream",
     "text": [
      "Writing deslocamento.c\n"
     ]
    }
   ],
   "source": [
    "%%file deslocamento.c\n",
    "\n",
    "// Comando de compilação: gcc -Wall deslocamento.c -o out\n",
    "// Comando de execução: ./out\n",
    "\n",
    "#include <stdio.h>\n",
    "\n",
    "int main() {\n",
    "    unsigned char contador = 0x84; // Decimal: 132, binário: 10000100\n",
    "\n",
    "    printf(\"Valor original: %d (binário: 10000100)\\n\", contador);\n",
    "\n",
    "    // Desloca 1 bit para a direita\n",
    "    contador = contador >> 1; \n",
    "\n",
    "    printf(\"Novo valor: %d (binário: 01000010)\\n\", contador);\n",
    "\n",
    "    return 0;\n",
    "}"
   ]
  },
  {
   "cell_type": "markdown",
   "id": "08a3c4ae",
   "metadata": {},
   "source": [
    "<h4 style=\"color: #2d3436;\"><strong>Código 2</strong>: Inserindo o valor 1 no bit mais significativo (MSB) do contador.</h4>"
   ]
  },
  {
   "cell_type": "code",
   "execution_count": 3,
   "id": "690e6324",
   "metadata": {},
   "outputs": [
    {
     "name": "stdout",
     "output_type": "stream",
     "text": [
      "Overwriting operacaoOR.c\n"
     ]
    }
   ],
   "source": [
    "%%file operacaoOR.c\n",
    "\n",
    "// Comando de compilação: gcc -Wall operacaoOR.c -o out\n",
    "// Comando de execução: ./out\n",
    "\n",
    "#include <stdio.h>\n",
    "\n",
    "int main() {\n",
    "    unsigned char contador = 0x42; // Decimal: 66, binário: 01000010\n",
    "\n",
    "    printf(\"Valor original: %d (binário: 01000010)\\n\", contador);\n",
    "\n",
    "    // Define o bit mais significativo (MSB) como 1\n",
    "    contador = contador | 0x80; // Máscara de bits - decimal: 128, binário é 10000000\n",
    "\n",
    "    printf(\"Novo valor: %d (binário: 11000010)\\n\", contador); // O resultado é 194\n",
    "\n",
    "    return 0;\n",
    "}"
   ]
  }
 ],
 "metadata": {
  "kernelspec": {
   "display_name": "Python 3",
   "language": "python",
   "name": "python3"
  },
  "language_info": {
   "codemirror_mode": {
    "name": "ipython",
    "version": 3
   },
   "file_extension": ".py",
   "mimetype": "text/x-python",
   "name": "python",
   "nbconvert_exporter": "python",
   "pygments_lexer": "ipython3",
   "version": "3.13.5"
  }
 },
 "nbformat": 4,
 "nbformat_minor": 5
}
