{
 "cells": [
  {
   "cell_type": "markdown",
   "id": "a58c62f6",
   "metadata": {},
   "source": [
    "<h1 style=\"color: rgba(237, 153, 29, 1);\">Aula Prática - Implementação de Tarefas</h1>\n",
    "<h2>Threads</h2>"
   ]
  },
  {
   "cell_type": "markdown",
   "id": "2a817dec",
   "metadata": {},
   "source": [
    "<small>\n",
    "<p><strong>IMPORTANTE</strong>: O comando '%%file' é usado no Python para criar arquivos .java no diretório onde este notebook está salvo. Os arquivos criados são nomeados conforme o identificador fornecido após o comando '%%file'.</p>\n",
    "</small>"
   ]
  },
  {
   "cell_type": "markdown",
   "id": "893e75cd",
   "metadata": {},
   "source": [
    "<h3>O que é uma Thread?</h3>\n",
    "\n",
    "<p>Fluxo de execução que opera dentro de um processo ou do núcleo do sistema operacional (também chamada de linha de execução). Por padrão, cada processo contém pelo menos uma thread.</p>\n",
    "\n",
    "<p>Tipos de threads:</p>\n",
    "\n",
    "<ul>\n",
    "    <li><strong style=\"color: #E0901B;\">Threads de usuário</strong>: fluxos de execução dentro de um processo, associados à execução da aplicação.</li>\n",
    "    <li><strong style=\"color: #E0901B;\">Threads de núcleo</strong>: fluxos de execução dentro do núcleo, representando threads de usuário ou atividades internas do próprio núcleo.</li>\n",
    "<ul>"
   ]
  },
  {
   "cell_type": "markdown",
   "id": "4b5d9eef",
   "metadata": {},
   "source": [
    "<h3>O Modelo 1:1 (Um-para-Um)</h3>\n",
    "\n",
    "<p>Nesse modelo, cada thread de nível de usuário criada por um programa é mapeada para uma thread a nível de kernel (<strong>Figura 1</strong>). Isso significa que o kernel do sistema operacional está totalmente ciente de cada thread e pode gerenciá-las e agendá-las individualmente.</p>\n",
    "\n",
    "<p>Este modelo permite que threads de um mesmo processo sejam executadas em paralelo em diferentes núcleos de CPU. Isso maximiza o desempenho em máquinas com múltiplos processadores. Assim, se uma thread faz uma chamada de sistema bloqueante (como ler um arquivo), apenas essa thread é pausada pelo kernel. As outras threads do mesmo processo podem continuar suas execuções.\n",
    "</p>\n",
    "\n",
    "<figure>\n",
    "    <img src=\"imagem3.png\" alt=\"Modelo de execução de threads 1:1.\">\n",
    "    <figcaption>Figura 1: Modelo de execução de threads 1:1. Baseado em: Maziero (2014).</figcaption>\n",
    "</figure>\n",
    "\n",
    "<h4>Desvantagem</h4>\n",
    "\n",
    "<p>o <strong>modelo 1:1</strong> garante paralelismo real e evita bloqueios globais, mas tem como desvantagem o alto custo de gerenciamento quando há grande número de threads.</p>"
   ]
  },
  {
   "cell_type": "markdown",
   "id": "478df461",
   "metadata": {},
   "source": [
    "<h4 style=\"color: #2d3436;\"><strong>Código 1</strong>: Criando algumas threads.</h4>"
   ]
  },
  {
   "cell_type": "code",
   "execution_count": null,
   "id": "8cd2625c",
   "metadata": {},
   "outputs": [
    {
     "name": "stdout",
     "output_type": "stream",
     "text": [
      "Writing threads.c\n"
     ]
    }
   ],
   "source": [
    "%%file threads.c\n",
    "\n",
    "// Comando de compilação: gcc -Wall threads.c -o out -lpthread\n",
    "// Comando de execução: ./out\n",
    "\n",
    "#include <pthread.h> // Biblioteca para trabalhar com threads POSIX. Essencial para criar, gerenciar e sincronizar threads.\n",
    "#include <stdio.h>   // Para funções de entrada e saída, como printf().\n",
    "#include <stdlib.h>  // Para funções de utilidade geral, como exit().\n",
    "#include <unistd.h>  // Para a função sleep() que pausa a execução.\n",
    "\n",
    "#define NUM_THREADS 12\n",
    "\n",
    "// Função que será executada por cada thread. Todas as threads executam essa mesma função.\n",
    "void* comportamento(void* id) {\n",
    "    long threadId = (long) id;\n",
    "\n",
    "    // Imprime uma mensagem de boas-vindas.\n",
    "    printf(\"Olá, sou a thread id %02ld\\n\", threadId);\n",
    "\n",
    "    // Pausa a execução da thread por 1 segundo para simular trabalho.\n",
    "    sleep(1);\n",
    "\n",
    "    printf(\"Thread %02ld finalizada\\n\", (threadId));\n",
    "\n",
    "    // A função pthread_exit() encerra a thread de forma explícita. O NULL indica que a thread não está retornando nada.\n",
    "    pthread_exit(NULL); \n",
    "}\n",
    "\n",
    "int main() {\n",
    "    // Declara um array de IDs de thread. Cada elemento 'pthread_t'\n",
    "    pthread_t threads[NUM_THREADS];\n",
    "\n",
    "    // A cada iteração, uma nova thread é criada.\n",
    "    for (long id = 0; id < NUM_THREADS; id++) {\n",
    "        // pthread_create() é a função para criar uma nova thread.\n",
    "        // Seus argumentos são:\n",
    "        // 1. &threads[id]: O endereço da nova thread (endereço de um posição do vetor).\n",
    "        // 2. NULL: Atributos da thread. NULL indica o uso das configurações padrão.\n",
    "        // 3. comportamento: A função que a nova thread irá executar.\n",
    "        // 4. (void*) id: O argumento que será passado para a thread.\n",
    "\n",
    "        if (pthread_create(&threads[id], NULL, comportamento, (void*) id) != 0) {\n",
    "            perror(\"Erro ao criar a thread\");\n",
    "            exit(1);\n",
    "        }\n",
    "    }\n",
    "\n",
    "    printf(\"Todas as threads foram criadas.\\n\");\n",
    "\n",
    "    // Finaliza o programa depois que todas as threads (incluindo o main) tiverem finalizado.\n",
    "    pthread_exit(NULL); \n",
    "}"
   ]
  },
  {
   "cell_type": "markdown",
   "id": "36753b87",
   "metadata": {},
   "source": [
    "<h3>pthread_join()</h3>\n",
    "\n",
    "<p>O <a href=\"https://man7.org/linux/man-pages/man3/pthread_join.3.html\">pthread_join()</a> é uma função da biblioteca pthreads em C que serve para sincronizar a thread principal (ou outra thread qualquer) com uma thread joinable. Bloqueia a thread que chamou o pthread_join() até que a outra termine. Portanto, o programa fica esperando.</p>"
   ]
  },
  {
   "cell_type": "markdown",
   "id": "08a3c4ae",
   "metadata": {},
   "source": [
    "<h4 style=\"color: #2d3436;\"><strong>Código 2</strong>: Utilizando a função pthread_join().</h4>"
   ]
  },
  {
   "cell_type": "code",
   "execution_count": null,
   "id": "690e6324",
   "metadata": {},
   "outputs": [
    {
     "name": "stdout",
     "output_type": "stream",
     "text": [
      "Overwriting threads.c\n"
     ]
    }
   ],
   "source": [
    "%%file join.c\n",
    "\n",
    "// Comando de compilação: gcc -Wall join.c -o out -lpthread\n",
    "// Comando de execução: ./out\n",
    "\n",
    "#include <pthread.h> // Biblioteca para trabalhar com threads POSIX. Essencial para criar, gerenciar e sincronizar threads.\n",
    "#include <stdio.h>   // Para funções de entrada e saída, como printf().\n",
    "#include <stdlib.h>  // Para funções de utilidade geral, como exit().\n",
    "#include <unistd.h>  // Para a função sleep() que pausa a execução.\n",
    "\n",
    "#define NUM_THREADS 12\n",
    "\n",
    "void* comportamento(void* id) {\n",
    "    long threadId = (long) id;\n",
    "    printf(\"Olá, sou a thread id %02ld\\n\", threadId);\n",
    "    sleep(1);\n",
    "    printf(\"Thread %02ld finalizada\\n\", (threadId));\n",
    "    pthread_exit(NULL); \n",
    "}\n",
    "\n",
    "int main() {\n",
    "    pthread_t threads[NUM_THREADS];\n",
    "    \n",
    "    // Atributos da thread, usado para configurar o comportamento das threads.\n",
    "    pthread_attr_t attr;\n",
    "    pthread_attr_init(&attr);\n",
    "    \n",
    "    // Define os atributos da thread como joinable.\n",
    "    pthread_attr_setdetachstate(&attr, PTHREAD_CREATE_JOINABLE);\n",
    "\n",
    "    for (long id = 0; id < NUM_THREADS; id++) {\n",
    "        if (pthread_create(&threads[id], &attr, comportamento, (void*) id) != 0) {\n",
    "            perror(\"Erro ao criar a thread\");\n",
    "            exit(1);\n",
    "        }\n",
    "    }\n",
    "\n",
    "    // Sincronização das tarefas executadas pelas threads\n",
    "    for (int i = 0; i < NUM_THREADS; i++) {\n",
    "        // Espera que cada thread termine antes de continuar.\n",
    "        if (pthread_join(threads[i], NULL) != 0) {\n",
    "            perror(\"Erro ao esperar pela thread\");\n",
    "            exit(1);\n",
    "        }\n",
    "    }\n",
    "\n",
    "    printf(\"Todas as threads foram criadas.\\n\");\n",
    "    \n",
    "    // Destrói os atributos da thread após o uso.\n",
    "    pthread_attr_destroy(&attr);\n",
    "    pthread_exit(NULL); \n",
    "}"
   ]
  },
  {
   "cell_type": "markdown",
   "id": "292e4226",
   "metadata": {},
   "source": [
    "<h3>Referencias</h3>\n",
    "\n",
    "<ul>\n",
    "    <li>MAZIERO, Carlos A. Sistemas operacionais: conceitos e mecanismos. Livro aberto, 2014. <a href=\"https://wiki.inf.ufpr.br/maziero/lib/exe/fetch.php?media=socm:socm-livro.pdf\">Livro</a></li>\n",
    "</ul>"
   ]
  }
 ],
 "metadata": {
  "kernelspec": {
   "display_name": "Python 3",
   "language": "python",
   "name": "python3"
  },
  "language_info": {
   "codemirror_mode": {
    "name": "ipython",
    "version": 3
   },
   "file_extension": ".py",
   "mimetype": "text/x-python",
   "name": "python",
   "nbconvert_exporter": "python",
   "pygments_lexer": "ipython3",
   "version": "3.13.5"
  }
 },
 "nbformat": 4,
 "nbformat_minor": 5
}
