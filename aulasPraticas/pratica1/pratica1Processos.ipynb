{
 "cells": [
  {
   "cell_type": "markdown",
   "id": "a58c62f6",
   "metadata": {},
   "source": [
    "<h1 style=\"color: rgba(237, 153, 29, 1);\">Aula Prática - Implementação de Tarefas</h1>\n",
    "<h2>Processos</h2>"
   ]
  },
  {
   "cell_type": "markdown",
   "id": "2a817dec",
   "metadata": {},
   "source": [
    "<small>\n",
    "<p><strong>IMPORTANTE</strong>: O comando '%%file' é usado no Python para criar arquivos .java no diretório onde este notebook está salvo. Os arquivos criados são nomeados conforme o identificador fornecido após o comando '%%file'.</p>\n",
    "</small>"
   ]
  },
  {
   "cell_type": "markdown",
   "id": "893e75cd",
   "metadata": {},
   "source": [
    "<h3>O que é um Processo?</h3>\n",
    "\n",
    "<p>Cada processo é uma cápsula que reúne as informações necessárias para executar uma tarefa. Essas informações podem mudar conforme o estado da tarefa evolui. Cada processo possui sua própria área de memória, garantindo isolamento em relação aos demais.</p>\n",
    "\n",
    "![Representação geral de um processo e sua relação com o Kernel](imagem1.png)\n",
    "\n",
    "*Figura 1: Representação geral de um processo e sua relação com o Kernel. Baseado em: Maziero (2014).*\n"
   ]
  },
  {
   "cell_type": "markdown",
   "id": "3dfcedf8",
   "metadata": {},
   "source": [
    "<h3>Criação de Processos no Linux</h3>\n",
    "\n",
    "<p>No Linux, um processo pode ser criado com base nas seguintes etapas:</p>\n",
    "\n",
    "<ul>\n",
    "    <li><strong style=\"color: #E0901B;\">1</strong> - O processo pai solicita ao <strong>Sistema Operacional</strong> (<strong>SO</strong>) a criação de um novo processo usando a chamada de sistema <a href=\"https://man7.org/linux/man-pages/man2/fork.2.html\">fork()</a>.</li>\n",
    "    <li><strong style=\"color: #E0901B;\">2</strong> - O SO, cria uma cópia exata do processo pai. Esse processo (filho), herda todas as configurações do pai.</li>\n",
    "    <li><strong style=\"color: #E0901B;\">3</strong> - A chamada fork() retorna valores diferentes para cada processo, permitindo que a execução seja separada:\n",
    "        <ul>\n",
    "            <li>O <strong>pai</strong> recebe o <strong>PID</strong> (<i>Process IDentification</i>) do filho como retorno.</li>\n",
    "            <li>O <strong>filho</strong> recebe o valor zero como retorno.</li>\n",
    "        </ul>\n",
    "    </li>\n",
    "</ul>\n",
    "\n",
    "<p>Após a chamada de fork(), ambos os processos (pai e filho) continuam a execução a partir da mesma linha de código. No entanto, eles podem tomar caminhos diferentes na lógica do programa graças ao valor de retorno da função.</p>\n",
    "\n",
    "<figure>\n",
    "    <img src=\"imagem2.png\" alt=\"Criação de processos no Linux.\">\n",
    "    <figcaption>Figura 2: Etapas da criação de processos no Linux. Baseado em: Maziero (2014).</figcaption>\n",
    "</figure>"
   ]
  },
  {
   "cell_type": "markdown",
   "id": "478df461",
   "metadata": {},
   "source": [
    "<h4 style=\"color: #2d3436;\"><strong>Código 1</strong>: Criando um processo por meio da função fork.</h4>"
   ]
  },
  {
   "cell_type": "code",
   "execution_count": 1,
   "id": "8cd2625c",
   "metadata": {},
   "outputs": [
    {
     "name": "stdout",
     "output_type": "stream",
     "text": [
      "Writing fork.c\n"
     ]
    }
   ],
   "source": [
    "%%file fork.c\n",
    "\n",
    "// Comando de compilação: gcc -Wall fork.c -o out\n",
    "// Comando de execução: ./out\n",
    "\n",
    "#include <stdio.h>\n",
    "#include <unistd.h>\n",
    "#include <sys/types.h>\n",
    "#include <sys/wait.h>\n",
    "#include <stdlib.h>\n",
    "\n",
    "int main(int argc, char *argv[]) {\n",
    "\n",
    "    printf(\"Sou o processo pai: %5d, meu pai é: %5d\\n\", getpid(), getppid());\n",
    "    \n",
    "    // Cria um novo processo filho.\n",
    "    int retorno = fork();\n",
    "\n",
    "    if (retorno < 0) {\n",
    "        perror(\"Erro ao criar o processo filho - fork falhou!\");  \n",
    "        exit(1);\n",
    "    } \n",
    "    else if (retorno == 0) { \n",
    "        printf(\"Sou o processo filho %5d, meu pai é %5d\\n\", getpid(), getppid()); // getppid() retorna o PID do processo pai\n",
    "        sleep(3);\n",
    "        printf(\"Processo finalizado! PID %5d\\n\", getpid());\n",
    "        exit(0);\n",
    "    }\n",
    "    else {\n",
    "        // O processo pai espera a finalização do processo filho\n",
    "        wait(NULL); \n",
    "        printf(\"Sou o processo pai %5d, meu filho é %5d\\n\", getpid(), retorno);\n",
    "        sleep(3);\n",
    "        printf(\"Processo finalizado! PID %5d\\n\", getpid());\n",
    "    }\n",
    "    return 0;   \n",
    "}"
   ]
  },
  {
   "cell_type": "markdown",
   "id": "36753b87",
   "metadata": {},
   "source": [
    "<h3>execve()</h3>\n",
    "\n",
    "<p>O <a href=\"https://man7.org/linux/man-pages/man2/execve.2.html\">execve()</a> é uma chamada de sistema do Linux que substitui o código do processo atual por um novo programa. Nesse caso, o processo não gera outro (como no fork()), ele simplesmente deixa de executar o código antigo e passa a executar o novo código.</p>"
   ]
  },
  {
   "cell_type": "markdown",
   "id": "08a3c4ae",
   "metadata": {},
   "source": [
    "<h4 style=\"color: #2d3436;\"><strong>Código 2</strong>: Utilizando a função execve().</h4>"
   ]
  },
  {
   "cell_type": "code",
   "execution_count": 2,
   "id": "690e6324",
   "metadata": {},
   "outputs": [
    {
     "name": "stdout",
     "output_type": "stream",
     "text": [
      "Writing execve.c\n"
     ]
    }
   ],
   "source": [
    "%%file execve.c\n",
    "\n",
    "// Comando de compilação: gcc -Wall execve.c -o out\n",
    "// Comando de execução: ./out\n",
    "\n",
    "#include <stdio.h>\n",
    "#include <unistd.h>\n",
    "#include <sys/types.h>\n",
    "#include <sys/wait.h>\n",
    "#include <stdlib.h>\n",
    "\n",
    "int main(int argc, char *argv[]) {\n",
    "\n",
    "    printf(\"Sou o processo pai: %5d, meu pai é: %5d\\n\", getpid(), getppid());\n",
    "    int retorno = fork();\n",
    "\n",
    "    if (retorno < 0) {\n",
    "        perror(\"Erro ao criar o processo filho - fork falhou!\");  \n",
    "        exit(1);\n",
    "    } \n",
    "    else if (retorno == 0) { \n",
    "        printf(\"Sou o processo filho %5d, meu pai é %5d\\n\", getpid(), getppid());\n",
    "        execve(\"/bin/whoami\", argv, NULL); // O processo filho executa o comando \"whoami\".     \n",
    "        perror(\"Erro ao executar execve()\");\n",
    "        exit(1);\n",
    "    }\n",
    "    else {\n",
    "        wait(NULL); \n",
    "        printf(\"Sou o processo pai %5d, meu filho é %5d\\n\", getpid(), retorno);\n",
    "        sleep(3);\n",
    "        printf(\"Processo finalizado! PID %5d\\n\", getpid());\n",
    "    }\n",
    "    return 0;   \n",
    "}"
   ]
  },
  {
   "cell_type": "markdown",
   "id": "292e4226",
   "metadata": {},
   "source": [
    "<h3>Referencias</h3>\n",
    "\n",
    "<ul>\n",
    "    <li>MAZIERO, Carlos A. Sistemas operacionais: conceitos e mecanismos. Livro aberto, 2014. <a href=\"https://wiki.inf.ufpr.br/maziero/lib/exe/fetch.php?media=socm:socm-livro.pdf\">Livro</a></li>\n",
    "</ul>"
   ]
  }
 ],
 "metadata": {
  "kernelspec": {
   "display_name": "Python 3",
   "language": "python",
   "name": "python3"
  },
  "language_info": {
   "codemirror_mode": {
    "name": "ipython",
    "version": 3
   },
   "file_extension": ".py",
   "mimetype": "text/x-python",
   "name": "python",
   "nbconvert_exporter": "python",
   "pygments_lexer": "ipython3",
   "version": "3.13.5"
  }
 },
 "nbformat": 4,
 "nbformat_minor": 5
}
